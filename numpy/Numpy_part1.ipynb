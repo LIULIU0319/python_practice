{
 "cells": [
  {
   "cell_type": "markdown",
   "id": "62ccddfc",
   "metadata": {},
   "source": [
    "# numpy简介"
   ]
  },
  {
   "cell_type": "markdown",
   "id": "387a7aaa",
   "metadata": {},
   "source": [
    "## 一、Array"
   ]
  },
  {
   "cell_type": "markdown",
   "id": "def15bd4",
   "metadata": {},
   "source": [
    "### (一)、创建"
   ]
  },
  {
   "cell_type": "code",
   "execution_count": 19,
   "id": "5c43e3fe",
   "metadata": {},
   "outputs": [],
   "source": [
    "import numpy as np"
   ]
  },
  {
   "cell_type": "code",
   "execution_count": 20,
   "id": "131c3450",
   "metadata": {},
   "outputs": [],
   "source": [
    "my_list = [1,2,3]"
   ]
  },
  {
   "cell_type": "code",
   "execution_count": 21,
   "id": "19b93610",
   "metadata": {},
   "outputs": [
    {
     "data": {
      "text/plain": [
       "array([1, 2, 3])"
      ]
     },
     "execution_count": 21,
     "metadata": {},
     "output_type": "execute_result"
    }
   ],
   "source": [
    "arr = np.array(my_list) \n",
    "arr"
   ]
  },
  {
   "cell_type": "markdown",
   "id": "05904606",
   "metadata": {},
   "source": [
    "#### 1. numpy.ndarray 是nump中底层类型，是数组类型，后续可以做矩阵操作。\n",
    "#### 2. 注意：数组中是同一数据类型，否则会自动向下转型： int->float->str。"
   ]
  },
  {
   "cell_type": "code",
   "execution_count": 6,
   "id": "c0bd37b5",
   "metadata": {},
   "outputs": [
    {
     "data": {
      "text/plain": [
       "[[1, 2, 3], [4, 5, 6], [7, 8, 9]]"
      ]
     },
     "execution_count": 6,
     "metadata": {},
     "output_type": "execute_result"
    }
   ],
   "source": [
    "my_matrix = [[1,2,3],[4,5,6],[7,8,9]]\n",
    "my_matrix"
   ]
  },
  {
   "cell_type": "code",
   "execution_count": 7,
   "id": "ff0cdf0c",
   "metadata": {},
   "outputs": [
    {
     "data": {
      "text/plain": [
       "array([[1, 2, 3],\n",
       "       [4, 5, 6],\n",
       "       [7, 8, 9]])"
      ]
     },
     "execution_count": 7,
     "metadata": {},
     "output_type": "execute_result"
    }
   ],
   "source": [
    "np.array(my_matrix)"
   ]
  },
  {
   "cell_type": "code",
   "execution_count": 10,
   "id": "5e11af90",
   "metadata": {},
   "outputs": [
    {
     "data": {
      "text/plain": [
       "array([2, 5, 8])"
      ]
     },
     "execution_count": 10,
     "metadata": {},
     "output_type": "execute_result"
    }
   ],
   "source": [
    "np.array(my_matrix)[:,1]"
   ]
  },
  {
   "cell_type": "markdown",
   "id": "814ff55f",
   "metadata": {},
   "source": [
    "#### 3. +,-,*,/ 是对分别对应元素进行操作。"
   ]
  },
  {
   "cell_type": "code",
   "execution_count": 8,
   "id": "6805057d",
   "metadata": {},
   "outputs": [
    {
     "data": {
      "text/plain": [
       "array([2, 3, 4])"
      ]
     },
     "execution_count": 8,
     "metadata": {},
     "output_type": "execute_result"
    }
   ],
   "source": [
    "arr2 = arr+1 \n",
    "arr2"
   ]
  },
  {
   "cell_type": "code",
   "execution_count": 9,
   "id": "fc9186e6",
   "metadata": {},
   "outputs": [
    {
     "data": {
      "text/plain": [
       "array([3, 5, 7])"
      ]
     },
     "execution_count": 9,
     "metadata": {},
     "output_type": "execute_result"
    }
   ],
   "source": [
    "arr + arr2 "
   ]
  },
  {
   "cell_type": "markdown",
   "id": "29378ebd",
   "metadata": {},
   "source": [
    "#### 4. 补充一个zip的用法: 可以做矩阵的转置"
   ]
  },
  {
   "cell_type": "code",
   "execution_count": 13,
   "id": "0c63cb1f",
   "metadata": {},
   "outputs": [
    {
     "data": {
      "text/plain": [
       "[(1, 4, 7), (2, 5, 8), (3, 6, 9)]"
      ]
     },
     "execution_count": 13,
     "metadata": {},
     "output_type": "execute_result"
    }
   ],
   "source": [
    "list(zip(*my_matrix))"
   ]
  },
  {
   "cell_type": "markdown",
   "id": "94814ad5",
   "metadata": {},
   "source": [
    "### (二)、Built-in 方法"
   ]
  },
  {
   "cell_type": "markdown",
   "id": "91977ece",
   "metadata": {},
   "source": [
    "#### 1. arrange"
   ]
  },
  {
   "cell_type": "markdown",
   "id": "b1c93ac0",
   "metadata": {},
   "source": [
    "在给定的间隔内返回均匀间隔的值。 \n",
    "arange(初始值，结束值，间隔) 生成的序列不包含结束值."
   ]
  },
  {
   "cell_type": "code",
   "execution_count": 16,
   "id": "e15eacce",
   "metadata": {},
   "outputs": [
    {
     "data": {
      "text/plain": [
       "array([0, 1, 2, 3, 4, 5, 6, 7, 8, 9])"
      ]
     },
     "execution_count": 16,
     "metadata": {},
     "output_type": "execute_result"
    }
   ],
   "source": [
    "np.arange(0,10)"
   ]
  },
  {
   "cell_type": "code",
   "execution_count": 35,
   "id": "3705e1d0",
   "metadata": {},
   "outputs": [
    {
     "data": {
      "text/plain": [
       "array([ 0.,  2.,  4.,  6.,  8., 10.], dtype=float32)"
      ]
     },
     "execution_count": 35,
     "metadata": {},
     "output_type": "execute_result"
    }
   ],
   "source": [
    "np.arange(0,11,2, dtype=np.float32)"
   ]
  },
  {
   "cell_type": "markdown",
   "id": "bcb1b05f",
   "metadata": {},
   "source": [
    "#### 2. linspace"
   ]
  },
  {
   "cell_type": "markdown",
   "id": "ae645a10",
   "metadata": {},
   "source": [
    "linspace(初始值, 结束值, 值的个数) 生成的序列包含结束值。"
   ]
  },
  {
   "cell_type": "code",
   "execution_count": 22,
   "id": "03e3a8be",
   "metadata": {},
   "outputs": [
    {
     "data": {
      "text/plain": [
       "array([ 0.,  5., 10.])"
      ]
     },
     "execution_count": 22,
     "metadata": {},
     "output_type": "execute_result"
    }
   ],
   "source": [
    "np.linspace(0,10,3)"
   ]
  },
  {
   "cell_type": "code",
   "execution_count": 23,
   "id": "0beebe91",
   "metadata": {},
   "outputs": [
    {
     "data": {
      "text/plain": [
       "array([ 0.        ,  0.20408163,  0.40816327,  0.6122449 ,  0.81632653,\n",
       "        1.02040816,  1.2244898 ,  1.42857143,  1.63265306,  1.83673469,\n",
       "        2.04081633,  2.24489796,  2.44897959,  2.65306122,  2.85714286,\n",
       "        3.06122449,  3.26530612,  3.46938776,  3.67346939,  3.87755102,\n",
       "        4.08163265,  4.28571429,  4.48979592,  4.69387755,  4.89795918,\n",
       "        5.10204082,  5.30612245,  5.51020408,  5.71428571,  5.91836735,\n",
       "        6.12244898,  6.32653061,  6.53061224,  6.73469388,  6.93877551,\n",
       "        7.14285714,  7.34693878,  7.55102041,  7.75510204,  7.95918367,\n",
       "        8.16326531,  8.36734694,  8.57142857,  8.7755102 ,  8.97959184,\n",
       "        9.18367347,  9.3877551 ,  9.59183673,  9.79591837, 10.        ])"
      ]
     },
     "execution_count": 23,
     "metadata": {},
     "output_type": "execute_result"
    }
   ],
   "source": [
    "np.linspace(0,10,50)"
   ]
  },
  {
   "cell_type": "markdown",
   "id": "dc54913f",
   "metadata": {},
   "source": [
    "#### 3. zeros & ones"
   ]
  },
  {
   "cell_type": "markdown",
   "id": "06a76ee9",
   "metadata": {},
   "source": [
    "生成零或一的数组。"
   ]
  },
  {
   "cell_type": "code",
   "execution_count": 26,
   "id": "e4b7b760",
   "metadata": {},
   "outputs": [
    {
     "data": {
      "text/plain": [
       "array([0., 0., 0.])"
      ]
     },
     "execution_count": 26,
     "metadata": {},
     "output_type": "execute_result"
    }
   ],
   "source": [
    "np.zeros(3)"
   ]
  },
  {
   "cell_type": "code",
   "execution_count": 27,
   "id": "d45415eb",
   "metadata": {},
   "outputs": [
    {
     "data": {
      "text/plain": [
       "array([[0., 0., 0., 0., 0.],\n",
       "       [0., 0., 0., 0., 0.],\n",
       "       [0., 0., 0., 0., 0.],\n",
       "       [0., 0., 0., 0., 0.],\n",
       "       [0., 0., 0., 0., 0.]])"
      ]
     },
     "execution_count": 27,
     "metadata": {},
     "output_type": "execute_result"
    }
   ],
   "source": [
    "np.zeros((5,5))"
   ]
  },
  {
   "cell_type": "code",
   "execution_count": 28,
   "id": "f5336921",
   "metadata": {},
   "outputs": [
    {
     "data": {
      "text/plain": [
       "array([1., 1., 1.])"
      ]
     },
     "execution_count": 28,
     "metadata": {},
     "output_type": "execute_result"
    }
   ],
   "source": [
    "np.ones(3)"
   ]
  },
  {
   "cell_type": "code",
   "execution_count": 37,
   "id": "d57c393f",
   "metadata": {},
   "outputs": [
    {
     "data": {
      "text/plain": [
       "array([[1., 1., 1.],\n",
       "       [1., 1., 1.],\n",
       "       [1., 1., 1.]], dtype=float32)"
      ]
     },
     "execution_count": 37,
     "metadata": {},
     "output_type": "execute_result"
    }
   ],
   "source": [
    "np.ones((3,3),dtype = np.float32)"
   ]
  },
  {
   "cell_type": "code",
   "execution_count": 36,
   "id": "bce932a9",
   "metadata": {},
   "outputs": [
    {
     "data": {
      "text/plain": [
       "array([[8., 8., 8.],\n",
       "       [8., 8., 8.],\n",
       "       [8., 8., 8.]])"
      ]
     },
     "execution_count": 36,
     "metadata": {},
     "output_type": "execute_result"
    }
   ],
   "source": [
    "np.ones((3,3)) * 8"
   ]
  },
  {
   "cell_type": "markdown",
   "id": "1bf32ac2",
   "metadata": {},
   "source": [
    "#### 4. eye"
   ]
  },
  {
   "cell_type": "markdown",
   "id": "ddb6be33",
   "metadata": {},
   "source": [
    "Creates an identity matrix"
   ]
  },
  {
   "cell_type": "code",
   "execution_count": 32,
   "id": "d87ebd6d",
   "metadata": {},
   "outputs": [
    {
     "data": {
      "text/plain": [
       "array([[1., 0., 0., 0.],\n",
       "       [0., 1., 0., 0.],\n",
       "       [0., 0., 1., 0.],\n",
       "       [0., 0., 0., 1.]])"
      ]
     },
     "execution_count": 32,
     "metadata": {},
     "output_type": "execute_result"
    }
   ],
   "source": [
    "np.eye(4)"
   ]
  },
  {
   "cell_type": "markdown",
   "id": "9febddea",
   "metadata": {},
   "source": [
    "### (三)、随机数组"
   ]
  },
  {
   "cell_type": "markdown",
   "id": "a2647728",
   "metadata": {},
   "source": [
    "### Random: 产生随机数组"
   ]
  },
  {
   "cell_type": "markdown",
   "id": "018b5395",
   "metadata": {},
   "source": [
    "#### 1. random"
   ]
  },
  {
   "cell_type": "markdown",
   "id": "b5b45b8b",
   "metadata": {},
   "source": [
    "抽取0到1之间的随机数。"
   ]
  },
  {
   "cell_type": "code",
   "execution_count": 49,
   "id": "df2bbf4a",
   "metadata": {},
   "outputs": [
    {
     "data": {
      "text/plain": [
       "array([[0.25734163, 0.83852799],\n",
       "       [0.22746352, 0.53702127],\n",
       "       [0.30398293, 0.93193565]])"
      ]
     },
     "execution_count": 49,
     "metadata": {},
     "output_type": "execute_result"
    }
   ],
   "source": [
    "np.random.random((3,2))"
   ]
  },
  {
   "cell_type": "markdown",
   "id": "098a4fbc",
   "metadata": {},
   "source": [
    "#### 2. randint"
   ]
  },
  {
   "cell_type": "markdown",
   "id": "0f93be90",
   "metadata": {},
   "source": [
    "返回从“低”（包括）到“高”（不包括）的随机整数。"
   ]
  },
  {
   "cell_type": "code",
   "execution_count": 46,
   "id": "21bdba32",
   "metadata": {},
   "outputs": [
    {
     "data": {
      "text/plain": [
       "49"
      ]
     },
     "execution_count": 46,
     "metadata": {},
     "output_type": "execute_result"
    }
   ],
   "source": [
    "np.random.randint(1,100) # 1 到 100 之间"
   ]
  },
  {
   "cell_type": "code",
   "execution_count": 47,
   "id": "1f077634",
   "metadata": {},
   "outputs": [
    {
     "data": {
      "text/plain": [
       "array([ 9, 13, 36, 26, 51,  9, 35, 92, 15, 25])"
      ]
     },
     "execution_count": 47,
     "metadata": {},
     "output_type": "execute_result"
    }
   ],
   "source": [
    "np.random.randint(1,100,10)"
   ]
  },
  {
   "cell_type": "code",
   "execution_count": 50,
   "id": "ca20324e",
   "metadata": {},
   "outputs": [
    {
     "data": {
      "text/plain": [
       "array([[54, 43, 29],\n",
       "       [ 2, 76, 80]])"
      ]
     },
     "execution_count": 50,
     "metadata": {},
     "output_type": "execute_result"
    }
   ],
   "source": [
    "np.random.randint(1,100, size=(2,3))"
   ]
  },
  {
   "cell_type": "code",
   "execution_count": 48,
   "id": "8d1934c1",
   "metadata": {},
   "outputs": [
    {
     "data": {
      "text/plain": [
       "array([[3, 5, 4],\n",
       "       [3, 9, 2]])"
      ]
     },
     "execution_count": 48,
     "metadata": {},
     "output_type": "execute_result"
    }
   ],
   "source": [
    "np.random.randint(10, size = (2,3))"
   ]
  },
  {
   "cell_type": "markdown",
   "id": "a78815fb",
   "metadata": {},
   "source": [
    "#### 3. rand "
   ]
  },
  {
   "cell_type": "markdown",
   "id": "03414ddb",
   "metadata": {},
   "source": [
    "创建给定形状的数组并填充它 来自 **均匀分布** 的随机样本。所有的值都是从0到1，随机分布。"
   ]
  },
  {
   "cell_type": "code",
   "execution_count": 38,
   "id": "31920dd8",
   "metadata": {},
   "outputs": [
    {
     "data": {
      "text/plain": [
       "array([0.25659995, 0.38272834])"
      ]
     },
     "execution_count": 38,
     "metadata": {},
     "output_type": "execute_result"
    }
   ],
   "source": [
    "np.random.rand(2) # 1个参数表示一维数组"
   ]
  },
  {
   "cell_type": "code",
   "execution_count": 39,
   "id": "0e88c7ca",
   "metadata": {},
   "outputs": [
    {
     "data": {
      "text/plain": [
       "array([[0.27649091, 0.12207208],\n",
       "       [0.63227036, 0.81565451],\n",
       "       [0.39701469, 0.7283974 ]])"
      ]
     },
     "execution_count": 39,
     "metadata": {},
     "output_type": "execute_result"
    }
   ],
   "source": [
    "np.random.rand(3,2)"
   ]
  },
  {
   "cell_type": "markdown",
   "id": "cfdb58ca",
   "metadata": {},
   "source": [
    "#### 4. randn"
   ]
  },
  {
   "cell_type": "markdown",
   "id": "3a6a27c5",
   "metadata": {},
   "source": [
    "从“标准正态”分布中返回一个（或多个）样本。与均匀分布的rand不同。"
   ]
  },
  {
   "cell_type": "code",
   "execution_count": 43,
   "id": "48267e18",
   "metadata": {},
   "outputs": [
    {
     "data": {
      "text/plain": [
       "array([-0.28170139, -0.20862821, -0.22825136])"
      ]
     },
     "execution_count": 43,
     "metadata": {},
     "output_type": "execute_result"
    }
   ],
   "source": [
    "# 注意是： 标准正态分布\n",
    "np.random.randn(3) "
   ]
  },
  {
   "cell_type": "code",
   "execution_count": 45,
   "id": "443593e1",
   "metadata": {},
   "outputs": [
    {
     "data": {
      "text/plain": [
       "array([[-0.39580397, -1.04802628],\n",
       "       [ 1.08920485, -0.58250583],\n",
       "       [-0.4843781 , -0.63923704]])"
      ]
     },
     "execution_count": 45,
     "metadata": {},
     "output_type": "execute_result"
    }
   ],
   "source": [
    "np.random.randn(3, 2) "
   ]
  },
  {
   "cell_type": "markdown",
   "id": "e857d2b2",
   "metadata": {},
   "source": [
    "#### 5. 从已有的序列中进行随机抽样"
   ]
  },
  {
   "cell_type": "code",
   "execution_count": 51,
   "id": "9bf2232b",
   "metadata": {},
   "outputs": [
    {
     "data": {
      "text/plain": [
       "array([5, 3])"
      ]
     },
     "execution_count": 51,
     "metadata": {},
     "output_type": "execute_result"
    }
   ],
   "source": [
    "np.random.choice(np.arange(10),2)"
   ]
  },
  {
   "cell_type": "markdown",
   "id": "2c0a4e63",
   "metadata": {},
   "source": [
    "#### 6. 洗牌"
   ]
  },
  {
   "cell_type": "code",
   "execution_count": 53,
   "id": "74800070",
   "metadata": {},
   "outputs": [
    {
     "data": {
      "text/plain": [
       "array([3, 4, 0, 9, 6, 7, 5, 8, 2, 1])"
      ]
     },
     "execution_count": 53,
     "metadata": {},
     "output_type": "execute_result"
    }
   ],
   "source": [
    "a = np.arange(10)\n",
    "np.random.shuffle(a)\n",
    "a"
   ]
  },
  {
   "cell_type": "markdown",
   "id": "dac129fa",
   "metadata": {},
   "source": [
    "#### 7. 随机抽取符合特定分布的序列"
   ]
  },
  {
   "cell_type": "code",
   "execution_count": 54,
   "id": "3d331884",
   "metadata": {},
   "outputs": [],
   "source": [
    "# np.random.normal(mu, sigma, 10) 符合均值为0，标准差为0.1的高斯分布随机数\n",
    "np.random.normal(0, 0.1, 10)\n",
    "# 返回的结果中的小数点后面的位数只在太多，能否指定返回结果的小数位数？\n",
    "# 可以进行全局的设置，来控制结果的输出\n",
    "# 因为数值的精度在计算时可能影响并不大，但在绘图与展示时还是要漂亮一些\n",
    "np.set_printoptions(precision = 2)"
   ]
  },
  {
   "cell_type": "code",
   "execution_count": 56,
   "id": "f012989f",
   "metadata": {},
   "outputs": [
    {
     "data": {
      "text/plain": [
       "array([-0.02,  0.02,  0.14, -0.17, -0.15, -0.06,  0.05, -0.07,  0.18,\n",
       "        0.07])"
      ]
     },
     "execution_count": 56,
     "metadata": {},
     "output_type": "execute_result"
    }
   ],
   "source": [
    "np.random.normal(0, 0.1, 10)"
   ]
  },
  {
   "cell_type": "markdown",
   "id": "5fb2a36b",
   "metadata": {},
   "source": [
    "#### 8. seed"
   ]
  },
  {
   "attachments": {
    "image.png": {
     "image/png": "[encoded data removed]"
    }
   },
   "cell_type": "markdown",
   "id": "5ff5a63e",
   "metadata": {},
   "source": [
    "设置随机种子：![image.png](attachment:image.png)"
   ]
  },
  {
   "cell_type": "code",
   "execution_count": 57,
   "id": "9e29d5ef",
   "metadata": {},
   "outputs": [
    {
     "data": {
      "text/plain": [
       "array([-0.11,  0.1 ,  0.03, -0.15, -0.06,  0.17, -0.24, -0.04,  0.13,\n",
       "       -0.09])"
      ]
     },
     "execution_count": 57,
     "metadata": {},
     "output_type": "execute_result"
    }
   ],
   "source": [
    "# 设置随机种子：\n",
    "np.random.seed(123)\n",
    "mu, sigma = 0,0.1\n",
    "np.random.normal(mu,sigma,10)"
   ]
  },
  {
   "cell_type": "code",
   "execution_count": 58,
   "id": "b45d7a62",
   "metadata": {},
   "outputs": [
    {
     "data": {
      "text/plain": [
       "array([-0.11,  0.1 ,  0.03, -0.15, -0.06,  0.17, -0.24, -0.04,  0.13,\n",
       "       -0.09])"
      ]
     },
     "execution_count": 58,
     "metadata": {},
     "output_type": "execute_result"
    }
   ],
   "source": [
    "np.random.seed(123)\n",
    "np.random.normal(mu,sigma,10)"
   ]
  },
  {
   "cell_type": "markdown",
   "id": "1f601575",
   "metadata": {},
   "source": [
    "### (四)、常用方法"
   ]
  },
  {
   "cell_type": "markdown",
   "id": "e8c5423d",
   "metadata": {},
   "source": [
    "#### 1. reshape()"
   ]
  },
  {
   "cell_type": "code",
   "execution_count": 61,
   "id": "1f55250e",
   "metadata": {},
   "outputs": [],
   "source": [
    "arr = np.arange(25)\n",
    "ranarr = np.random.randint(0,50,10)"
   ]
  },
  {
   "cell_type": "code",
   "execution_count": 62,
   "id": "fe3cb509",
   "metadata": {},
   "outputs": [
    {
     "data": {
      "text/plain": [
       "array([ 0,  1,  2,  3,  4,  5,  6,  7,  8,  9, 10, 11, 12, 13, 14, 15, 16,\n",
       "       17, 18, 19, 20, 21, 22, 23, 24])"
      ]
     },
     "execution_count": 62,
     "metadata": {},
     "output_type": "execute_result"
    }
   ],
   "source": [
    "arr"
   ]
  },
  {
   "cell_type": "code",
   "execution_count": 63,
   "id": "526aab96",
   "metadata": {},
   "outputs": [
    {
     "data": {
      "text/plain": [
       "array([19, 14, 36, 32, 16,  4, 49,  3,  2, 20])"
      ]
     },
     "execution_count": 63,
     "metadata": {},
     "output_type": "execute_result"
    }
   ],
   "source": [
    "ranarr"
   ]
  },
  {
   "cell_type": "code",
   "execution_count": 64,
   "id": "c9362fca",
   "metadata": {},
   "outputs": [
    {
     "data": {
      "text/plain": [
       "array([[ 0,  1,  2,  3,  4],\n",
       "       [ 5,  6,  7,  8,  9],\n",
       "       [10, 11, 12, 13, 14],\n",
       "       [15, 16, 17, 18, 19],\n",
       "       [20, 21, 22, 23, 24]])"
      ]
     },
     "execution_count": 64,
     "metadata": {},
     "output_type": "execute_result"
    }
   ],
   "source": [
    "arr.reshape(5,5)"
   ]
  },
  {
   "cell_type": "markdown",
   "id": "b7f49206",
   "metadata": {},
   "source": [
    "#### 2. max() / min() / argmax() / argmin()"
   ]
  },
  {
   "cell_type": "markdown",
   "id": "181468b6",
   "metadata": {},
   "source": [
    "这些是查找最大值或最小值的方法。或者使用 argmin 或 argmax 找到它们的索引位置。"
   ]
  },
  {
   "cell_type": "code",
   "execution_count": 66,
   "id": "4fb56e24",
   "metadata": {},
   "outputs": [
    {
     "data": {
      "text/plain": [
       "array([19, 14, 36, 32, 16,  4, 49,  3,  2, 20])"
      ]
     },
     "execution_count": 66,
     "metadata": {},
     "output_type": "execute_result"
    }
   ],
   "source": [
    "ranarr"
   ]
  },
  {
   "cell_type": "code",
   "execution_count": 67,
   "id": "f2f4aeea",
   "metadata": {},
   "outputs": [
    {
     "data": {
      "text/plain": [
       "49"
      ]
     },
     "execution_count": 67,
     "metadata": {},
     "output_type": "execute_result"
    }
   ],
   "source": [
    "ranarr.max()"
   ]
  },
  {
   "cell_type": "code",
   "execution_count": 68,
   "id": "84bec181",
   "metadata": {},
   "outputs": [
    {
     "data": {
      "text/plain": [
       "6"
      ]
     },
     "execution_count": 68,
     "metadata": {},
     "output_type": "execute_result"
    }
   ],
   "source": [
    "ranarr.argmax()"
   ]
  },
  {
   "cell_type": "code",
   "execution_count": 69,
   "id": "d968d568",
   "metadata": {},
   "outputs": [
    {
     "data": {
      "text/plain": [
       "2"
      ]
     },
     "execution_count": 69,
     "metadata": {},
     "output_type": "execute_result"
    }
   ],
   "source": [
    "ranarr.min()"
   ]
  },
  {
   "cell_type": "code",
   "execution_count": 70,
   "id": "711a2992",
   "metadata": {},
   "outputs": [
    {
     "data": {
      "text/plain": [
       "8"
      ]
     },
     "execution_count": 70,
     "metadata": {},
     "output_type": "execute_result"
    }
   ],
   "source": [
    "ranarr.argmin()"
   ]
  },
  {
   "cell_type": "markdown",
   "id": "db32310a",
   "metadata": {},
   "source": [
    "#### 3. type()"
   ]
  },
  {
   "cell_type": "code",
   "execution_count": 71,
   "id": "43e19a4d",
   "metadata": {},
   "outputs": [
    {
     "data": {
      "text/plain": [
       "numpy.ndarray"
      ]
     },
     "execution_count": 71,
     "metadata": {},
     "output_type": "execute_result"
    }
   ],
   "source": [
    "# 打印当前数据格式\n",
    "type(arr)"
   ]
  },
  {
   "cell_type": "markdown",
   "id": "98541991",
   "metadata": {},
   "source": [
    "### (五)、常用属性"
   ]
  },
  {
   "cell_type": "code",
   "execution_count": 72,
   "id": "6f517f33",
   "metadata": {},
   "outputs": [
    {
     "data": {
      "text/plain": [
       "(25,)"
      ]
     },
     "execution_count": 72,
     "metadata": {},
     "output_type": "execute_result"
    }
   ],
   "source": [
    "arr.shape # 表明当前是一维，有25个元素; 但list中没有shape类型"
   ]
  },
  {
   "cell_type": "code",
   "execution_count": 75,
   "id": "c4245e3d",
   "metadata": {},
   "outputs": [
    {
     "data": {
      "text/plain": [
       "(1, 25)"
      ]
     },
     "execution_count": 75,
     "metadata": {},
     "output_type": "execute_result"
    }
   ],
   "source": [
    "arr.reshape(1,25).shape"
   ]
  },
  {
   "cell_type": "code",
   "execution_count": 73,
   "id": "9b947e42",
   "metadata": {},
   "outputs": [
    {
     "data": {
      "text/plain": [
       "dtype('int64')"
      ]
     },
     "execution_count": 73,
     "metadata": {},
     "output_type": "execute_result"
    }
   ],
   "source": [
    "arr.dtype # 打印当前数据类型："
   ]
  },
  {
   "cell_type": "code",
   "execution_count": 74,
   "id": "4c616410",
   "metadata": {},
   "outputs": [
    {
     "data": {
      "text/plain": [
       "25"
      ]
     },
     "execution_count": 74,
     "metadata": {},
     "output_type": "execute_result"
    }
   ],
   "source": [
    "arr.size # 数组中的元素个数："
   ]
  },
  {
   "cell_type": "code",
   "execution_count": null,
   "id": "8c5d4d71",
   "metadata": {},
   "outputs": [],
   "source": []
  },
  {
   "cell_type": "code",
   "execution_count": null,
   "id": "efd3bbda",
   "metadata": {},
   "outputs": [],
   "source": []
  },
  {
   "cell_type": "code",
   "execution_count": null,
   "id": "81ff72a5",
   "metadata": {},
   "outputs": [],
   "source": []
  },
  {
   "cell_type": "markdown",
   "id": "7bf09fac",
   "metadata": {},
   "source": [
    "# 数值计算"
   ]
  },
  {
   "cell_type": "code",
   "execution_count": 95,
   "id": "4c37f332",
   "metadata": {},
   "outputs": [
    {
     "data": {
      "text/plain": [
       "array([[1, 2, 3],\n",
       "       [4, 5, 6]])"
      ]
     },
     "execution_count": 95,
     "metadata": {},
     "output_type": "execute_result"
    }
   ],
   "source": [
    "import numpy as np\n",
    "tang_array = np.array([[1,2,3],[4,5,6]])\n",
    "tang_array"
   ]
  },
  {
   "cell_type": "markdown",
   "id": "8702c822",
   "metadata": {},
   "source": [
    "对元素的操作："
   ]
  },
  {
   "cell_type": "code",
   "execution_count": 96,
   "id": "1a19e578",
   "metadata": {},
   "outputs": [
    {
     "data": {
      "text/plain": [
       "21"
      ]
     },
     "execution_count": 96,
     "metadata": {},
     "output_type": "execute_result"
    }
   ],
   "source": [
    "np.sum(tang_array) # sum all elements"
   ]
  },
  {
   "cell_type": "code",
   "execution_count": 97,
   "id": "c6a02f86",
   "metadata": {},
   "outputs": [
    {
     "data": {
      "text/plain": [
       "array([5, 7, 9])"
      ]
     },
     "execution_count": 97,
     "metadata": {},
     "output_type": "execute_result"
    }
   ],
   "source": [
    "np.sum(tang_array, axis = 0) # 沿竖轴"
   ]
  },
  {
   "cell_type": "code",
   "execution_count": 98,
   "id": "9a911a34",
   "metadata": {},
   "outputs": [
    {
     "data": {
      "text/plain": [
       "array([ 6, 15])"
      ]
     },
     "execution_count": 98,
     "metadata": {},
     "output_type": "execute_result"
    }
   ],
   "source": [
    "np.sum(tang_array, axis = 1) # 沿横轴"
   ]
  },
  {
   "cell_type": "code",
   "execution_count": 99,
   "id": "01046683",
   "metadata": {},
   "outputs": [
    {
     "data": {
      "text/plain": [
       "2"
      ]
     },
     "execution_count": 99,
     "metadata": {},
     "output_type": "execute_result"
    }
   ],
   "source": [
    "tang_array.ndim"
   ]
  },
  {
   "cell_type": "code",
   "execution_count": 100,
   "id": "b435da6f",
   "metadata": {},
   "outputs": [
    {
     "data": {
      "text/plain": [
       "720"
      ]
     },
     "execution_count": 100,
     "metadata": {},
     "output_type": "execute_result"
    }
   ],
   "source": [
    "tang_array.prod() # 所有元素相乘"
   ]
  },
  {
   "cell_type": "code",
   "execution_count": 101,
   "id": "99fd32fa",
   "metadata": {},
   "outputs": [
    {
     "data": {
      "text/plain": [
       "array([ 4, 10, 18])"
      ]
     },
     "execution_count": 101,
     "metadata": {},
     "output_type": "execute_result"
    }
   ],
   "source": [
    "tang_array.prod(axis = 0)"
   ]
  },
  {
   "cell_type": "code",
   "execution_count": 102,
   "id": "4c37176b",
   "metadata": {},
   "outputs": [
    {
     "data": {
      "text/plain": [
       "array([  6, 120])"
      ]
     },
     "execution_count": 102,
     "metadata": {},
     "output_type": "execute_result"
    }
   ],
   "source": [
    "tang_array.prod(axis = 1)"
   ]
  },
  {
   "cell_type": "code",
   "execution_count": 103,
   "id": "8df0643c",
   "metadata": {},
   "outputs": [
    {
     "data": {
      "text/plain": [
       "1"
      ]
     },
     "execution_count": 103,
     "metadata": {},
     "output_type": "execute_result"
    }
   ],
   "source": [
    "tang_array.min()"
   ]
  },
  {
   "cell_type": "code",
   "execution_count": 104,
   "id": "05af4df6",
   "metadata": {},
   "outputs": [
    {
     "data": {
      "text/plain": [
       "array([1, 2, 3])"
      ]
     },
     "execution_count": 104,
     "metadata": {},
     "output_type": "execute_result"
    }
   ],
   "source": [
    "tang_array.min(axis = 0)"
   ]
  },
  {
   "cell_type": "code",
   "execution_count": 105,
   "id": "31bcb3fb",
   "metadata": {},
   "outputs": [
    {
     "data": {
      "text/plain": [
       "array([1, 4])"
      ]
     },
     "execution_count": 105,
     "metadata": {},
     "output_type": "execute_result"
    }
   ],
   "source": [
    "tang_array.min(axis = 1) \n",
    "# tang_array.max()同理\n",
    "# tang_array.mean()同理\n",
    "# tang_array.std()同理"
   ]
  },
  {
   "cell_type": "code",
   "execution_count": 107,
   "id": "9dd10aee",
   "metadata": {},
   "outputs": [
    {
     "data": {
      "text/plain": [
       "2.9166666666666665"
      ]
     },
     "execution_count": 107,
     "metadata": {},
     "output_type": "execute_result"
    }
   ],
   "source": [
    "tang_array.var() # 方差"
   ]
  },
  {
   "cell_type": "code",
   "execution_count": 109,
   "id": "49f44780",
   "metadata": {},
   "outputs": [
    {
     "data": {
      "text/plain": [
       "1.707825127659933"
      ]
     },
     "execution_count": 109,
     "metadata": {},
     "output_type": "execute_result"
    }
   ],
   "source": [
    "tang_array.std()"
   ]
  },
  {
   "cell_type": "code",
   "execution_count": 110,
   "id": "5410635a",
   "metadata": {},
   "outputs": [
    {
     "data": {
      "text/plain": [
       "array([0.81649658, 0.81649658])"
      ]
     },
     "execution_count": 110,
     "metadata": {},
     "output_type": "execute_result"
    }
   ],
   "source": [
    "tang_array.std(axis = 1)"
   ]
  },
  {
   "cell_type": "code",
   "execution_count": 116,
   "id": "b9a211b1",
   "metadata": {},
   "outputs": [
    {
     "data": {
      "text/plain": [
       "array([[1, 2, 3],\n",
       "       [4, 5, 6]])"
      ]
     },
     "execution_count": 116,
     "metadata": {},
     "output_type": "execute_result"
    }
   ],
   "source": [
    "tang_array"
   ]
  },
  {
   "cell_type": "code",
   "execution_count": 113,
   "id": "e6798ff5",
   "metadata": {},
   "outputs": [
    {
     "data": {
      "text/plain": [
       "0"
      ]
     },
     "execution_count": 113,
     "metadata": {},
     "output_type": "execute_result"
    }
   ],
   "source": [
    "tang_array.argmin()"
   ]
  },
  {
   "cell_type": "code",
   "execution_count": 114,
   "id": "a19c6eba",
   "metadata": {},
   "outputs": [
    {
     "data": {
      "text/plain": [
       "array([0, 0, 0])"
      ]
     },
     "execution_count": 114,
     "metadata": {},
     "output_type": "execute_result"
    }
   ],
   "source": [
    "tang_array.argmin(axis = 0) # 也可以按照指定的维度来看最小值的位置"
   ]
  },
  {
   "cell_type": "code",
   "execution_count": 115,
   "id": "d757afdf",
   "metadata": {},
   "outputs": [
    {
     "data": {
      "text/plain": [
       "array([0, 0])"
      ]
     },
     "execution_count": 115,
     "metadata": {},
     "output_type": "execute_result"
    }
   ],
   "source": [
    "tang_array.argmin(axis = 1)"
   ]
  },
  {
   "cell_type": "markdown",
   "id": "b70b861b",
   "metadata": {},
   "source": [
    "- 矩阵乘法"
   ]
  },
  {
   "cell_type": "code",
   "execution_count": 76,
   "id": "520a3499",
   "metadata": {},
   "outputs": [
    {
     "data": {
      "text/plain": [
       "array([10, 10])"
      ]
     },
     "execution_count": 76,
     "metadata": {},
     "output_type": "execute_result"
    }
   ],
   "source": [
    "# 按对应位置元素相乘：\n",
    "x = np.array([5,5])\n",
    "y = np.array([2,2])\n",
    "np.multiply(x,y)"
   ]
  },
  {
   "cell_type": "code",
   "execution_count": 77,
   "id": "e7aeccbc",
   "metadata": {},
   "outputs": [
    {
     "data": {
      "text/plain": [
       "20"
      ]
     },
     "execution_count": 77,
     "metadata": {},
     "output_type": "execute_result"
    }
   ],
   "source": [
    "# 矩阵乘法\n",
    "np.dot(x, y)"
   ]
  },
  {
   "cell_type": "code",
   "execution_count": null,
   "id": "1f4406b6",
   "metadata": {},
   "outputs": [],
   "source": []
  }
 ],
 "metadata": {
  "kernelspec": {
   "display_name": "Python 3 (ipykernel)",
   "language": "python",
   "name": "python3"
  },
  "language_info": {
   "codemirror_mode": {
    "name": "ipython",
    "version": 3
   },
   "file_extension": ".py",
   "mimetype": "text/x-python",
   "name": "python",
   "nbconvert_exporter": "python",
   "pygments_lexer": "ipython3",
   "version": "3.8.8"
  }
 },
 "nbformat": 4,
 "nbformat_minor": 5
}
