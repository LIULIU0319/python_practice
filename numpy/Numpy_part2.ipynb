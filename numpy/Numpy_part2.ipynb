{
 "cells": [
  {
   "cell_type": "markdown",
   "id": "341b02de",
   "metadata": {},
   "source": [
    "# Part2： Numpy 中的索引 & 切片（筛选）"
   ]
  },
  {
   "cell_type": "markdown",
   "id": "07f13435",
   "metadata": {},
   "source": [
    "我们将讨论如何从数组中选择元素或元素组。"
   ]
  },
  {
   "cell_type": "markdown",
   "id": "4c44bfba",
   "metadata": {},
   "source": [
    "### 一、中括号 Bracket Indexing and Selection"
   ]
  },
  {
   "cell_type": "code",
   "execution_count": 1,
   "id": "1ac71519",
   "metadata": {},
   "outputs": [],
   "source": [
    "import numpy as np"
   ]
  },
  {
   "cell_type": "code",
   "execution_count": 2,
   "id": "c693f99b",
   "metadata": {},
   "outputs": [
    {
     "data": {
      "text/plain": [
       "array([ 0,  1,  2,  3,  4,  5,  6,  7,  8,  9, 10])"
      ]
     },
     "execution_count": 2,
     "metadata": {},
     "output_type": "execute_result"
    }
   ],
   "source": [
    "arr = np.arange(0,11)\n",
    "arr"
   ]
  },
  {
   "cell_type": "code",
   "execution_count": 3,
   "id": "efef40ce",
   "metadata": {},
   "outputs": [
    {
     "data": {
      "text/plain": [
       "array([0, 1])"
      ]
     },
     "execution_count": 3,
     "metadata": {},
     "output_type": "execute_result"
    }
   ],
   "source": [
    "arr[0:2] # 左闭右开"
   ]
  },
  {
   "cell_type": "code",
   "execution_count": 4,
   "id": "98de62a8",
   "metadata": {},
   "outputs": [
    {
     "data": {
      "text/plain": [
       "array([ 9, 10])"
      ]
     },
     "execution_count": 4,
     "metadata": {},
     "output_type": "execute_result"
    }
   ],
   "source": [
    "arr[-2:] # 从倒数第二个数据开始到最后"
   ]
  },
  {
   "cell_type": "code",
   "execution_count": 5,
   "id": "bdb2d691",
   "metadata": {},
   "outputs": [],
   "source": [
    "# 对二维数组也是同理\n",
    "tang_arr = np.array([[1,2,3],[4,5,6],[7,8,9]])"
   ]
  },
  {
   "cell_type": "code",
   "execution_count": 6,
   "id": "f4b5eef1",
   "metadata": {},
   "outputs": [
    {
     "data": {
      "text/plain": [
       "array([4, 5, 6])"
      ]
     },
     "execution_count": 6,
     "metadata": {},
     "output_type": "execute_result"
    }
   ],
   "source": [
    "# 取第二行数据：\n",
    "tang_arr[1]"
   ]
  },
  {
   "cell_type": "code",
   "execution_count": 7,
   "id": "4f0efa7b",
   "metadata": {},
   "outputs": [
    {
     "data": {
      "text/plain": [
       "array([2, 5, 8])"
      ]
     },
     "execution_count": 7,
     "metadata": {},
     "output_type": "execute_result"
    }
   ],
   "source": [
    "# 取第二列数据：\n",
    "tang_arr[:,1]"
   ]
  },
  {
   "cell_type": "markdown",
   "id": "77bf844e",
   "metadata": {},
   "source": [
    "### 二、广播 Broadcasting"
   ]
  },
  {
   "cell_type": "markdown",
   "id": "9fb709aa",
   "metadata": {},
   "source": [
    "Numpy 数组不同于普通的 Python 列表，它们能够广播："
   ]
  },
  {
   "cell_type": "code",
   "execution_count": 21,
   "id": "b5ce8a03",
   "metadata": {},
   "outputs": [
    {
     "data": {
      "text/plain": [
       "array([100, 100, 100, 100, 100,   5,   6,   7,   8,   9,  10])"
      ]
     },
     "execution_count": 21,
     "metadata": {},
     "output_type": "execute_result"
    }
   ],
   "source": [
    "arr[0:5]=100 \n",
    "arr"
   ]
  },
  {
   "cell_type": "code",
   "execution_count": 22,
   "id": "df354a2c",
   "metadata": {},
   "outputs": [
    {
     "data": {
      "text/plain": [
       "array([ 0,  1,  2,  3,  4,  5,  6,  7,  8,  9, 10])"
      ]
     },
     "execution_count": 22,
     "metadata": {},
     "output_type": "execute_result"
    }
   ],
   "source": [
    "arr = np.arange(0,11)\n",
    "arr"
   ]
  },
  {
   "cell_type": "code",
   "execution_count": 23,
   "id": "4456471c",
   "metadata": {},
   "outputs": [
    {
     "data": {
      "text/plain": [
       "array([0, 1, 2, 3, 4, 5])"
      ]
     },
     "execution_count": 23,
     "metadata": {},
     "output_type": "execute_result"
    }
   ],
   "source": [
    "slice_of_arr = arr[0:6]\n",
    "slice_of_arr"
   ]
  },
  {
   "cell_type": "code",
   "execution_count": 24,
   "id": "735cc1f8",
   "metadata": {},
   "outputs": [
    {
     "data": {
      "text/plain": [
       "array([99, 99, 99, 99, 99, 99])"
      ]
     },
     "execution_count": 24,
     "metadata": {},
     "output_type": "execute_result"
    }
   ],
   "source": [
    "slice_of_arr[:]=99\n",
    "slice_of_arr"
   ]
  },
  {
   "cell_type": "code",
   "execution_count": 25,
   "id": "35a06b9d",
   "metadata": {},
   "outputs": [
    {
     "data": {
      "text/plain": [
       "array([99, 99, 99, 99, 99, 99,  6,  7,  8,  9, 10])"
      ]
     },
     "execution_count": 25,
     "metadata": {},
     "output_type": "execute_result"
    }
   ],
   "source": [
    "arr #注意更改也发生在原始数组中！"
   ]
  },
  {
   "cell_type": "code",
   "execution_count": 26,
   "id": "56fe3761",
   "metadata": {},
   "outputs": [
    {
     "data": {
      "text/plain": [
       "array([99, 99, 99, 99, 99, 99,  6,  7,  8,  9, 10])"
      ]
     },
     "execution_count": 26,
     "metadata": {},
     "output_type": "execute_result"
    }
   ],
   "source": [
    "arr_copy = arr.copy() #arr_copy = arr.copy() a\n",
    "arr_copy"
   ]
  },
  {
   "cell_type": "code",
   "execution_count": 27,
   "id": "47e37f1d",
   "metadata": {},
   "outputs": [
    {
     "data": {
      "text/plain": [
       "array([100,  99,  99,  99,  99,  99,   6,   7,   8,   9,  10])"
      ]
     },
     "execution_count": 27,
     "metadata": {},
     "output_type": "execute_result"
    }
   ],
   "source": [
    "arr_copy[0] = 100\n",
    "arr_copy"
   ]
  },
  {
   "cell_type": "code",
   "execution_count": 28,
   "id": "72718a5c",
   "metadata": {},
   "outputs": [
    {
     "data": {
      "text/plain": [
       "array([99, 99, 99, 99, 99, 99,  6,  7,  8,  9, 10])"
      ]
     },
     "execution_count": 28,
     "metadata": {},
     "output_type": "execute_result"
    }
   ],
   "source": [
    "arr"
   ]
  },
  {
   "cell_type": "markdown",
   "id": "418c66b9",
   "metadata": {},
   "source": [
    "- 再举个例子"
   ]
  },
  {
   "cell_type": "code",
   "execution_count": 29,
   "id": "0f3cd981",
   "metadata": {},
   "outputs": [
    {
     "data": {
      "text/plain": [
       "array([[0, 0, 0],\n",
       "       [0, 0, 0],\n",
       "       [0, 0, 0]])"
      ]
     },
     "execution_count": 29,
     "metadata": {},
     "output_type": "execute_result"
    }
   ],
   "source": [
    "# 用0填充：\n",
    "tang_arr.fill(0)\n",
    "tang_arr"
   ]
  },
  {
   "cell_type": "code",
   "execution_count": 30,
   "id": "27dc4357",
   "metadata": {},
   "outputs": [
    {
     "data": {
      "text/plain": [
       "array([[0, 0, 0],\n",
       "       [0, 0, 0],\n",
       "       [0, 0, 0]])"
      ]
     },
     "execution_count": 30,
     "metadata": {},
     "output_type": "execute_result"
    }
   ],
   "source": [
    "tang_arr3 = tang_arr # 这里两个数组是一样的\n",
    "tang_arr3"
   ]
  },
  {
   "cell_type": "code",
   "execution_count": 31,
   "id": "f3752ff3",
   "metadata": {},
   "outputs": [
    {
     "data": {
      "text/plain": [
       "array([[  0,   0,   0],\n",
       "       [  0, 100,   0],\n",
       "       [  0,   0,   0]])"
      ]
     },
     "execution_count": 31,
     "metadata": {},
     "output_type": "execute_result"
    }
   ],
   "source": [
    "tang_arr3[1,1] = 100\n",
    "tang_arr3"
   ]
  },
  {
   "cell_type": "code",
   "execution_count": 32,
   "id": "6353bfbd",
   "metadata": {},
   "outputs": [
    {
     "data": {
      "text/plain": [
       "array([[  0,   0,   0],\n",
       "       [  0, 100,   0],\n",
       "       [  0,   0,   0]])"
      ]
     },
     "execution_count": 32,
     "metadata": {},
     "output_type": "execute_result"
    }
   ],
   "source": [
    "tang_arr"
   ]
  },
  {
   "cell_type": "markdown",
   "id": "16156bd1",
   "metadata": {},
   "source": [
    "### 三、索引二维数组（矩阵）"
   ]
  },
  {
   "cell_type": "code",
   "execution_count": 34,
   "id": "39fac51c",
   "metadata": {},
   "outputs": [
    {
     "data": {
      "text/plain": [
       "array([[ 5, 10, 15],\n",
       "       [20, 25, 30],\n",
       "       [35, 40, 45]])"
      ]
     },
     "execution_count": 34,
     "metadata": {},
     "output_type": "execute_result"
    }
   ],
   "source": [
    "arr_2d = np.array(([5,10,15],[20,25,30],[35,40,45]))\n",
    "arr_2d"
   ]
  },
  {
   "cell_type": "code",
   "execution_count": 35,
   "id": "93a7e0dd",
   "metadata": {},
   "outputs": [
    {
     "data": {
      "text/plain": [
       "array([35, 40, 45])"
      ]
     },
     "execution_count": 35,
     "metadata": {},
     "output_type": "execute_result"
    }
   ],
   "source": [
    "arr_2d[2] # 第三行"
   ]
  },
  {
   "cell_type": "code",
   "execution_count": 36,
   "id": "17d5a804",
   "metadata": {},
   "outputs": [
    {
     "data": {
      "text/plain": [
       "array([35, 40, 45])"
      ]
     },
     "execution_count": 36,
     "metadata": {},
     "output_type": "execute_result"
    }
   ],
   "source": [
    "arr_2d[2,:] # 第三行"
   ]
  },
  {
   "cell_type": "code",
   "execution_count": 37,
   "id": "1ff203e2",
   "metadata": {},
   "outputs": [
    {
     "data": {
      "text/plain": [
       "20"
      ]
     },
     "execution_count": 37,
     "metadata": {},
     "output_type": "execute_result"
    }
   ],
   "source": [
    "arr_2d[1][0] #第二行第一列"
   ]
  },
  {
   "cell_type": "code",
   "execution_count": 38,
   "id": "d0a51f1a",
   "metadata": {},
   "outputs": [
    {
     "data": {
      "text/plain": [
       "20"
      ]
     },
     "execution_count": 38,
     "metadata": {},
     "output_type": "execute_result"
    }
   ],
   "source": [
    "arr_2d[1,0] #第二行第一列"
   ]
  },
  {
   "cell_type": "markdown",
   "id": "eed9bb6d",
   "metadata": {},
   "source": [
    "- 这里的表达需要注意一下"
   ]
  },
  {
   "cell_type": "code",
   "execution_count": 39,
   "id": "07f31ea8",
   "metadata": {},
   "outputs": [
    {
     "data": {
      "text/plain": [
       "array([[10, 15],\n",
       "       [25, 30]])"
      ]
     },
     "execution_count": 39,
     "metadata": {},
     "output_type": "execute_result"
    }
   ],
   "source": [
    "#Shape (2,2) 右上角，不包括 第二行，\n",
    "arr_2d[:2,1:]"
   ]
  },
  {
   "cell_type": "code",
   "execution_count": 40,
   "id": "46cfb6d6",
   "metadata": {},
   "outputs": [
    {
     "data": {
      "text/plain": [
       "array([[ 5, 10, 15]])"
      ]
     },
     "execution_count": 40,
     "metadata": {},
     "output_type": "execute_result"
    }
   ],
   "source": [
    "# 第0行，不包括第一行\n",
    "arr_2d[:1] "
   ]
  },
  {
   "cell_type": "code",
   "execution_count": 44,
   "id": "b34118f3",
   "metadata": {},
   "outputs": [
    {
     "data": {
      "text/plain": [
       "array([ 5, 20, 35])"
      ]
     },
     "execution_count": 44,
     "metadata": {},
     "output_type": "execute_result"
    }
   ],
   "source": [
    "# 第0列\n",
    "arr_2d[:,0] "
   ]
  },
  {
   "cell_type": "code",
   "execution_count": 46,
   "id": "d0cf547f",
   "metadata": {},
   "outputs": [
    {
     "data": {
      "text/plain": [
       "array([15, 30, 45])"
      ]
     },
     "execution_count": 46,
     "metadata": {},
     "output_type": "execute_result"
    }
   ],
   "source": [
    "arr_2d[:,-1] "
   ]
  },
  {
   "cell_type": "code",
   "execution_count": 48,
   "id": "5fc1cbc7",
   "metadata": {},
   "outputs": [
    {
     "data": {
      "text/plain": [
       "array([[35, 40, 45],\n",
       "       [20, 25, 30],\n",
       "       [ 5, 10, 15]])"
      ]
     },
     "execution_count": 48,
     "metadata": {},
     "output_type": "execute_result"
    }
   ],
   "source": [
    "arr_2d[::-1] "
   ]
  },
  {
   "cell_type": "markdown",
   "id": "01191046",
   "metadata": {},
   "source": [
    "### 四、bool索引"
   ]
  },
  {
   "cell_type": "code",
   "execution_count": 49,
   "id": "a344c84b",
   "metadata": {},
   "outputs": [
    {
     "data": {
      "text/plain": [
       "array([ 0, 10, 20, 30, 40, 50, 60, 70, 80, 90])"
      ]
     },
     "execution_count": 49,
     "metadata": {},
     "output_type": "execute_result"
    }
   ],
   "source": [
    "# 在索引操作中，不仅可以用具体位置进行索引，还可使用bool类型\n",
    "tang_array = np.arange(0, 100, 10) #0~10 间的整数序列 10是步长\n",
    "tang_array"
   ]
  },
  {
   "cell_type": "code",
   "execution_count": 50,
   "id": "04a4c4f9",
   "metadata": {},
   "outputs": [
    {
     "data": {
      "text/plain": [
       "array([False, False, False,  True,  True,  True, False, False,  True,\n",
       "        True])"
      ]
     },
     "execution_count": 50,
     "metadata": {},
     "output_type": "execute_result"
    }
   ],
   "source": [
    "mask = np.array([0,0,0,1,1,1,0,0,1,1], dtype=bool)\n",
    "mask"
   ]
  },
  {
   "cell_type": "code",
   "execution_count": 51,
   "id": "cf7f536b",
   "metadata": {},
   "outputs": [
    {
     "data": {
      "text/plain": [
       "array([30, 40, 50, 80, 90])"
      ]
     },
     "execution_count": 51,
     "metadata": {},
     "output_type": "execute_result"
    }
   ],
   "source": [
    "# 接下来可以通过布尔类型的索引来选择元素：\n",
    "tang_array[mask] "
   ]
  },
  {
   "cell_type": "markdown",
   "id": "20c0502b",
   "metadata": {},
   "source": [
    "- 也可以这样"
   ]
  },
  {
   "cell_type": "code",
   "execution_count": 52,
   "id": "0640496c",
   "metadata": {},
   "outputs": [
    {
     "data": {
      "text/plain": [
       "array([0.81018586, 0.60145142, 0.49918939, 0.40640183, 0.81006007,\n",
       "       0.27605508, 0.15556067, 0.48910672, 0.45366474, 0.38180091])"
      ]
     },
     "execution_count": 52,
     "metadata": {},
     "output_type": "execute_result"
    }
   ],
   "source": [
    "random_array = np.random.rand(10) # 在[0,1)随机选择10个数\n",
    "random_array"
   ]
  },
  {
   "cell_type": "code",
   "execution_count": 53,
   "id": "4da20a5b",
   "metadata": {},
   "outputs": [
    {
     "data": {
      "text/plain": [
       "array([ True,  True, False, False,  True, False, False, False, False,\n",
       "       False])"
      ]
     },
     "execution_count": 53,
     "metadata": {},
     "output_type": "execute_result"
    }
   ],
   "source": [
    "mask2 = random_array > 0.5\n",
    "mask2"
   ]
  },
  {
   "cell_type": "code",
   "execution_count": 54,
   "id": "fa2a2f10",
   "metadata": {},
   "outputs": [
    {
     "data": {
      "text/plain": [
       "array([0.81018586, 0.60145142, 0.81006007])"
      ]
     },
     "execution_count": 54,
     "metadata": {},
     "output_type": "execute_result"
    }
   ],
   "source": [
    "random_array[mask2]"
   ]
  },
  {
   "cell_type": "code",
   "execution_count": null,
   "id": "54bb5512",
   "metadata": {},
   "outputs": [],
   "source": []
  }
 ],
 "metadata": {
  "kernelspec": {
   "display_name": "Python 3 (ipykernel)",
   "language": "python",
   "name": "python3"
  },
  "language_info": {
   "codemirror_mode": {
    "name": "ipython",
    "version": 3
   },
   "file_extension": ".py",
   "mimetype": "text/x-python",
   "name": "python",
   "nbconvert_exporter": "python",
   "pygments_lexer": "ipython3",
   "version": "3.8.8"
  }
 },
 "nbformat": 4,
 "nbformat_minor": 5
}
